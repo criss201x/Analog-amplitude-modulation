{
 "cells": [
  {
   "cell_type": "markdown",
   "id": "9e609d9b",
   "metadata": {
    "ExecuteTime": {
     "end_time": "2021-04-28T02:34:15.010124Z",
     "start_time": "2021-04-28T02:34:14.999572Z"
    }
   },
   "source": [
    "<h1>Guided workshop</h1>\n",
    "\n",
    "Created by <i>Fernando Yepes Calderon, PhD.</i>\n",
    "\n",
    "<ul>\n",
    "    <li>You will need to follow the instructions and provide the coding when requested</li>\n",
    "</ul>\n",
    "    "
   ]
  },
  {
   "cell_type": "markdown",
   "id": "dbc00a46",
   "metadata": {
    "ExecuteTime": {
     "end_time": "2021-04-28T02:35:19.189103Z",
     "start_time": "2021-04-28T02:35:19.184257Z"
    }
   },
   "source": [
    "# Modulation\n",
    "\n",
    "This is technique that uses the good properties of some signals to travel along the media, while carriying a signal messages that by itself would not travel easily by the media."
   ]
  },
  {
   "cell_type": "markdown",
   "id": "27ed7f2d",
   "metadata": {
    "ExecuteTime": {
     "end_time": "2021-04-28T14:00:08.201389Z",
     "start_time": "2021-04-28T14:00:08.199232Z"
    }
   },
   "source": [
    "# Needed packs"
   ]
  },
  {
   "cell_type": "code",
   "execution_count": 3,
   "id": "8f3483eb",
   "metadata": {
    "ExecuteTime": {
     "end_time": "2021-08-11T00:02:00.701575Z",
     "start_time": "2021-08-11T00:02:00.316883Z"
    }
   },
   "outputs": [],
   "source": [
    "import numpy as np\n",
    "import matplotlib.pylab as plt"
   ]
  },
  {
   "cell_type": "markdown",
   "id": "c8c8a283",
   "metadata": {
    "ExecuteTime": {
     "end_time": "2021-04-28T13:58:56.903068Z",
     "start_time": "2021-04-28T13:58:56.898087Z"
    }
   },
   "source": [
    "# AM modulation\n",
    "\n",
    "In amplitude modulation, you need a message signal (low frequency) a carrier signal (high frequency) a modulation index. The modulation index define how much the carrier envolope changes due to the changes in the message signal"
   ]
  },
  {
   "cell_type": "markdown",
   "id": "cc23d365",
   "metadata": {},
   "source": [
    "## Creating the signals\n",
    "\n",
    "You have to create the following signals:\n",
    "\n",
    "<ul>\n",
    "    <li>$c(t) = acarr*cos(w_{c}t)$</li>\n",
    "    <li>$m(t) = amsg*cos(w_{m}t)$</li>\n",
    "</ul>\n",
    "\n",
    "Where $c(t)$ and $m(t)$ are your carrier and message signals respectively. Both are dependent of variable $t$ the independent variable that is also your timeline. "
   ]
  },
  {
   "cell_type": "markdown",
   "id": "440c09da",
   "metadata": {},
   "source": [
    "## Defining signal parameters\n",
    "\n",
    "We use the input function to add interaction"
   ]
  },
  {
   "cell_type": "code",
   "execution_count": 15,
   "id": "b16d4528",
   "metadata": {
    "ExecuteTime": {
     "end_time": "2021-08-11T00:06:58.275251Z",
     "start_time": "2021-08-11T00:06:41.715340Z"
    }
   },
   "outputs": [
    {
     "name": "stdout",
     "output_type": "stream",
     "text": [
      "Give me the carrier's amplitude:5\n",
      "Give me the carrier's frequency:50\n",
      "Give me the message's amplitude:2\n",
      "Give me the message's frequency:5\n",
      "Give me the modulation index:2\n"
     ]
    }
   ],
   "source": [
    "acarr = float(input(\"Give me the carrier's amplitude:\"))\n",
    "fcarr = float(input(\"Give me the carrier's frequency:\"))\n",
    "amsg = float(input(\"Give me the message's amplitude:\"))\n",
    "fmsg = float(input(\"Give me the message's frequency:\"))\n",
    "modi = float(input(\"Give me the modulation index:\"))"
   ]
  },
  {
   "cell_type": "markdown",
   "id": "eced55fa",
   "metadata": {},
   "source": [
    "## Here is how to create your timeline:"
   ]
  },
  {
   "cell_type": "code",
   "execution_count": 16,
   "id": "f131c6d7",
   "metadata": {
    "ExecuteTime": {
     "end_time": "2021-08-11T00:07:01.174761Z",
     "start_time": "2021-08-11T00:07:01.171892Z"
    }
   },
   "outputs": [],
   "source": [
    "t = np.linspace(0, 1, 1000)\n"
   ]
  },
  {
   "cell_type": "markdown",
   "id": "22a88d37",
   "metadata": {},
   "source": [
    "## Create abstractions for the m(t) and c(t) signals using variables included in 4.1\n",
    "\n",
    "It is your turn to help. \n",
    "\n",
    "<ul>\n",
    "    <li>Tip1. Use the cos function included in np.</li>\n",
    "    <li>Tip2. You will need to write $w$ (angular frequency) in terms of $f$.</li>\n",
    "    <li>Tip3. Recall that your signals are:</li>\n",
    "    <ul>\n",
    "        <li>$c(t) = acarr*cos(w_{c}t)$</li>\n",
    "        <li>$m(t) = amsg*cos(w_{m}t)$</li>\n",
    "    </ul>\n",
    "</ul>    "
   ]
  },
  {
   "cell_type": "code",
   "execution_count": 17,
   "id": "cbc7f213",
   "metadata": {
    "ExecuteTime": {
     "end_time": "2021-08-11T00:07:04.076961Z",
     "start_time": "2021-08-11T00:07:04.074115Z"
    }
   },
   "outputs": [],
   "source": [
    "# create here the signal m(t)\n",
    "mt = \n",
    "# create here the signal c(t)\n",
    "ct = "
   ]
  },
  {
   "cell_type": "code",
   "execution_count": null,
   "id": "2533882e",
   "metadata": {},
   "outputs": [],
   "source": []
  },
  {
   "cell_type": "markdown",
   "id": "e1ebe54a",
   "metadata": {},
   "source": [
    "## Task 1.\n",
    "\n",
    "Set:\n",
    "\n",
    "<ul>\n",
    "    <li>Carrier amplitude = 5</li>\n",
    "    <li>Carrier frequency = 50</li>\n",
    "    <li>Message amplitude = 2</li>\n",
    "    <li>Message frequency = 5</li>\n",
    "    <li>Modulation index = 2</li>\n",
    "</ul>\n",
    "\n",
    "Write a function that asks for the c(t) and m(t) signals \n"
   ]
  },
  {
   "cell_type": "markdown",
   "id": "251a0df7",
   "metadata": {
    "ExecuteTime": {
     "end_time": "2021-08-11T00:05:40.395118Z",
     "start_time": "2021-08-11T00:05:40.391313Z"
    }
   },
   "source": [
    "## Task 2: \n",
    "Return values of the carrier signal in indexes 4, 55 and 900."
   ]
  },
  {
   "cell_type": "code",
   "execution_count": null,
   "id": "606693e9",
   "metadata": {},
   "outputs": [],
   "source": []
  },
  {
   "cell_type": "markdown",
   "id": "b110155f",
   "metadata": {},
   "source": [
    "## Task 3:\n",
    "\n",
    "Report the max value of the message signal and its position in the $mt$ array\n",
    "Tip: use the where method of the np package."
   ]
  },
  {
   "cell_type": "code",
   "execution_count": null,
   "id": "5fd9692a",
   "metadata": {
    "ExecuteTime": {
     "end_time": "2021-08-11T00:07:09.591861Z",
     "start_time": "2021-08-11T00:07:09.585457Z"
    }
   },
   "outputs": [],
   "source": []
  },
  {
   "cell_type": "markdown",
   "id": "53ec4095",
   "metadata": {},
   "source": [
    "## Task 3\n",
    "\n",
    "Report the indexes where the signal $mt$ is smaller than -1.9998. "
   ]
  },
  {
   "cell_type": "code",
   "execution_count": null,
   "id": "53f36c9f",
   "metadata": {
    "ExecuteTime": {
     "end_time": "2021-08-11T00:07:43.477441Z",
     "start_time": "2021-08-11T00:07:43.473926Z"
    }
   },
   "outputs": [],
   "source": []
  },
  {
   "cell_type": "code",
   "execution_count": null,
   "id": "6d9793f2",
   "metadata": {},
   "outputs": [],
   "source": []
  },
  {
   "cell_type": "markdown",
   "id": "3a51e491",
   "metadata": {},
   "source": [
    "## Task 4.\n",
    "\n",
    "Plot signals mt using plt.plot(mt). On signal must be next to the other and should use different colors. Also use titles to identify the axes and the signal from the carrier."
   ]
  },
  {
   "cell_type": "code",
   "execution_count": 24,
   "id": "29511b41",
   "metadata": {
    "ExecuteTime": {
     "end_time": "2021-08-11T00:20:25.478105Z",
     "start_time": "2021-08-11T00:20:25.339650Z"
    }
   },
   "outputs": [
    {
     "data": {
      "text/plain": [
       "[<matplotlib.lines.Line2D at 0x7fcc7f0bad00>]"
      ]
     },
     "execution_count": 24,
     "metadata": {},
     "output_type": "execute_result"
    },
    {
     "data": {
      "image/png": "[encoded data removed]",
      "text/plain": [
       "<Figure size 432x288 with 1 Axes>"
      ]
     },
     "metadata": {
      "needs_background": "light"
     },
     "output_type": "display_data"
    }
   ],
   "source": []
  },
  {
   "cell_type": "markdown",
   "id": "e5c71e67",
   "metadata": {},
   "source": [
    "## Create the AM signal\n",
    "\n",
    "Consider that the amplitude of the carrier signal changes with the variations in the messages signal.\n",
    "You need to make an abastraction of: \n",
    "\n",
    "$am(t) = A_{c} * (1 + modi * np.cos(w_{m}*t))*np.cos(w_{c}*t)$\n",
    "\n",
    "Use the space below to create this signal"
   ]
  },
  {
   "cell_type": "markdown",
   "id": "ba90c037",
   "metadata": {
    "ExecuteTime": {
     "end_time": "2021-08-11T00:24:15.105957Z",
     "start_time": "2021-08-11T00:24:15.103167Z"
    }
   },
   "source": [
    "## Task 5.\n",
    "\n",
    "Create the AM signal following the above formulation and the function to create signals. "
   ]
  },
  {
   "cell_type": "code",
   "execution_count": null,
   "id": "9b977fbd",
   "metadata": {},
   "outputs": [],
   "source": []
  },
  {
   "cell_type": "markdown",
   "id": "bdeaa23d",
   "metadata": {
    "ExecuteTime": {
     "end_time": "2021-08-11T00:24:17.553016Z",
     "start_time": "2021-08-11T00:24:17.413176Z"
    }
   },
   "source": [
    "## Task 6. \n",
    "\n",
    "Plot the AM signal"
   ]
  },
  {
   "cell_type": "code",
   "execution_count": null,
   "id": "303db82c",
   "metadata": {},
   "outputs": [],
   "source": []
  }
 ],
 "metadata": {
  "kernelspec": {
   "display_name": "Python 3 (ipykernel)",
   "language": "python",
   "name": "python3"
  },
  "language_info": {
   "codemirror_mode": {
    "name": "ipython",
    "version": 3
   },
   "file_extension": ".py",
   "mimetype": "text/x-python",
   "name": "python",
   "nbconvert_exporter": "python",
   "pygments_lexer": "ipython3",
   "version": "3.9.12"
  },
  "toc": {
   "base_numbering": 1,
   "nav_menu": {},
   "number_sections": true,
   "sideBar": true,
   "skip_h1_title": false,
   "title_cell": "Table of Contents",
   "title_sidebar": "Contents",
   "toc_cell": false,
   "toc_position": {},
   "toc_section_display": true,
   "toc_window_display": false
  }
 },
 "nbformat": 4,
 "nbformat_minor": 5
}
