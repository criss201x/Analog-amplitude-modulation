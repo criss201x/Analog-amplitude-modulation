{
 "cells": [
  {
   "cell_type": "markdown",
   "id": "fcb93120",
   "metadata": {
    "ExecuteTime": {
     "end_time": "2021-04-28T02:34:15.010124Z",
     "start_time": "2021-04-28T02:34:14.999572Z"
    }
   },
   "source": [
    "<h1>Guided workshop</h1>\n",
    "\n",
    "Created by <i>Fernando Yepes Calderon, PhD.</i>\n",
    "\n",
    "<ul>\n",
    "    <li>You will need to follow the instructions and provide the coding when requested</li>\n",
    "</ul>\n",
    "    "
   ]
  },
  {
   "cell_type": "markdown",
   "id": "cf508f36",
   "metadata": {
    "ExecuteTime": {
     "end_time": "2021-04-28T02:35:19.189103Z",
     "start_time": "2021-04-28T02:35:19.184257Z"
    }
   },
   "source": [
    "# Modulation\n",
    "\n",
    "This is technique that uses the good properties of some signals to travel along the media, while carriying a signal messages that by itself would not travel easily by the media."
   ]
  },
  {
   "cell_type": "markdown",
   "id": "53e6a9ef",
   "metadata": {
    "ExecuteTime": {
     "end_time": "2021-04-28T14:00:08.201389Z",
     "start_time": "2021-04-28T14:00:08.199232Z"
    }
   },
   "source": [
    "# Needed packs"
   ]
  },
  {
   "cell_type": "code",
   "execution_count": 1,
   "id": "87200fda",
   "metadata": {
    "ExecuteTime": {
     "end_time": "2021-08-11T00:02:00.701575Z",
     "start_time": "2021-08-11T00:02:00.316883Z"
    }
   },
   "outputs": [],
   "source": [
    "import numpy as np\n",
    "import matplotlib.pylab as plt"
   ]
  },
  {
   "cell_type": "markdown",
   "id": "ec1a9acb",
   "metadata": {
    "ExecuteTime": {
     "end_time": "2021-04-28T13:58:56.903068Z",
     "start_time": "2021-04-28T13:58:56.898087Z"
    }
   },
   "source": [
    "# AM modulation\n",
    "\n",
    "In amplitude modulation, you need a message signal (low frequency) a carrier signal (high frequency) a modulation index. The modulation index define how much the carrier envolope changes due to the changes in the message signal"
   ]
  },
  {
   "cell_type": "markdown",
   "id": "9423ad4e",
   "metadata": {},
   "source": [
    "## Creating the signals\n",
    "\n",
    "You have to create the following signals:\n",
    "\n",
    "<ul>\n",
    "    <li>$c(t) = acarr*cos(w_{c}t)$</li>\n",
    "    <li>$m(t) = amsg*cos(w_{m}t)$</li>\n",
    "</ul>\n",
    "\n",
    "Where $c(t)$ and $m(t)$ are your carrier and message signals respectively. Both are dependent of variable $t$ the independent variable that is also your timeline. "
   ]
  },
  {
   "cell_type": "markdown",
   "id": "5e9dcd58",
   "metadata": {},
   "source": [
    "## Defining signal parameters\n",
    "\n",
    "We use the input function to add interaction"
   ]
  },
  {
   "cell_type": "code",
   "execution_count": null,
   "id": "dcd9aaa7",
   "metadata": {
    "ExecuteTime": {
     "end_time": "2021-08-11T00:06:58.275251Z",
     "start_time": "2021-08-11T00:06:41.715340Z"
    }
   },
   "outputs": [],
   "source": [
    "acarr = float(input(\"Give me the carrier's amplitude:\"))#amplitud de la señal portadora\n",
    "fcarr = float(input(\"Give me the carrier's frequency:\"))#frecuencia de la señal portadora\n",
    "amsg = float(input(\"Give me the message's amplitude:\"))#amplitud de la señal moduladora / señal de banda \n",
    "fmsg = float(input(\"Give me the message's frequency:\"))#frecuencia de la señal moduladora / señal de banda \n",
    "modi = float(input(\"Give me the modulation index:\"))#indice de amplitud"
   ]
  },
  {
   "cell_type": "markdown",
   "id": "ee48c982",
   "metadata": {},
   "source": [
    "## Here is how to create your timeline:"
   ]
  },
  {
   "cell_type": "code",
   "execution_count": 2,
   "id": "c6734708",
   "metadata": {
    "ExecuteTime": {
     "end_time": "2021-08-11T00:07:01.174761Z",
     "start_time": "2021-08-11T00:07:01.171892Z"
    }
   },
   "outputs": [],
   "source": [
    "t = np.linspace(0, 1, 1000)"
   ]
  },
  {
   "cell_type": "markdown",
   "id": "940f2b83",
   "metadata": {},
   "source": [
    "## Create abstractions for the m(t) and c(t) signals using variables included in 4.1\n",
    "\n",
    "It is your turn to help. \n",
    "\n",
    "<ul>\n",
    "    <li>Tip1. Use the cos function included in np.</li>\n",
    "    <li>Tip2. You will need to write $w$ (angular frequency) in terms of $f$.</li>\n",
    "    <li>Tip3. Recall that your signals are:</li>\n",
    "    <ul>\n",
    "        <li>$c(t) = acarr*cos(w_{c}t)$</li>\n",
    "        <li>$m(t) = amsg*cos(w_{m}t)$</li>\n",
    "    </ul>\n",
    "</ul>    "
   ]
  },
  {
   "cell_type": "code",
   "execution_count": 3,
   "id": "e2a002b0",
   "metadata": {
    "ExecuteTime": {
     "end_time": "2021-08-11T00:07:04.076961Z",
     "start_time": "2021-08-11T00:07:04.074115Z"
    }
   },
   "outputs": [
    {
     "ename": "NameError",
     "evalue": "name 'amsg' is not defined",
     "output_type": "error",
     "traceback": [
      "\u001b[0;31m---------------------------------------------------------------------------\u001b[0m",
      "\u001b[0;31mNameError\u001b[0m                                 Traceback (most recent call last)",
      "\u001b[0;32m/tmp/ipykernel_54263/653353856.py\u001b[0m in \u001b[0;36m<module>\u001b[0;34m\u001b[0m\n\u001b[1;32m      1\u001b[0m \u001b[0;31m# create here the signal m(t)\u001b[0m\u001b[0;34m\u001b[0m\u001b[0;34m\u001b[0m\u001b[0m\n\u001b[0;32m----> 2\u001b[0;31m \u001b[0mmt\u001b[0m \u001b[0;34m=\u001b[0m \u001b[0mamsg\u001b[0m\u001b[0;34m*\u001b[0m\u001b[0mnp\u001b[0m\u001b[0;34m.\u001b[0m\u001b[0mcos\u001b[0m\u001b[0;34m(\u001b[0m\u001b[0;36m2\u001b[0m\u001b[0;34m*\u001b[0m\u001b[0mnp\u001b[0m\u001b[0;34m.\u001b[0m\u001b[0mpi\u001b[0m\u001b[0;34m*\u001b[0m\u001b[0mt\u001b[0m\u001b[0;34m*\u001b[0m\u001b[0mfmsg\u001b[0m\u001b[0;34m)\u001b[0m\u001b[0;34m\u001b[0m\u001b[0;34m\u001b[0m\u001b[0m\n\u001b[0m\u001b[1;32m      3\u001b[0m \u001b[0;31m# create here the signal c(t)\u001b[0m\u001b[0;34m\u001b[0m\u001b[0;34m\u001b[0m\u001b[0m\n\u001b[1;32m      4\u001b[0m \u001b[0mct\u001b[0m \u001b[0;34m=\u001b[0m \u001b[0macarr\u001b[0m\u001b[0;34m*\u001b[0m\u001b[0mnp\u001b[0m\u001b[0;34m.\u001b[0m\u001b[0mcos\u001b[0m\u001b[0;34m(\u001b[0m\u001b[0;36m2\u001b[0m\u001b[0;34m*\u001b[0m\u001b[0mnp\u001b[0m\u001b[0;34m.\u001b[0m\u001b[0mpi\u001b[0m\u001b[0;34m*\u001b[0m\u001b[0mt\u001b[0m\u001b[0;34m*\u001b[0m\u001b[0mfcarr\u001b[0m\u001b[0;34m)\u001b[0m\u001b[0;34m\u001b[0m\u001b[0;34m\u001b[0m\u001b[0m\n\u001b[1;32m      5\u001b[0m \u001b[0mam\u001b[0m \u001b[0;34m=\u001b[0m \u001b[0macarr\u001b[0m\u001b[0;34m*\u001b[0m\u001b[0;34m(\u001b[0m\u001b[0;36m1\u001b[0m\u001b[0;34m+\u001b[0m\u001b[0mmodi\u001b[0m\u001b[0;34m*\u001b[0m\u001b[0mnp\u001b[0m\u001b[0;34m.\u001b[0m\u001b[0mcos\u001b[0m\u001b[0;34m(\u001b[0m\u001b[0;36m2\u001b[0m\u001b[0;34m*\u001b[0m\u001b[0mnp\u001b[0m\u001b[0;34m.\u001b[0m\u001b[0mpi\u001b[0m\u001b[0;34m*\u001b[0m\u001b[0mt\u001b[0m\u001b[0;34m*\u001b[0m\u001b[0mfmsg\u001b[0m\u001b[0;34m)\u001b[0m\u001b[0;34m)\u001b[0m\u001b[0;34m*\u001b[0m\u001b[0mnp\u001b[0m\u001b[0;34m.\u001b[0m\u001b[0mcos\u001b[0m\u001b[0;34m(\u001b[0m\u001b[0;36m2\u001b[0m\u001b[0;34m*\u001b[0m\u001b[0mnp\u001b[0m\u001b[0;34m.\u001b[0m\u001b[0mpi\u001b[0m\u001b[0;34m*\u001b[0m\u001b[0mt\u001b[0m\u001b[0;34m*\u001b[0m\u001b[0mfcarr\u001b[0m\u001b[0;34m)\u001b[0m\u001b[0;34m\u001b[0m\u001b[0;34m\u001b[0m\u001b[0m\n",
      "\u001b[0;31mNameError\u001b[0m: name 'amsg' is not defined"
     ]
    }
   ],
   "source": [
    "# create here the signal m(t)\n",
    "mt = amsg*np.cos(2*np.pi*t*fmsg)\n",
    "# create here the signal c(t)\n",
    "ct = acarr*np.cos(2*np.pi*t*fcarr)\n",
    "am = acarr*(1+modi*np.cos(2*np.pi*t*fmsg))*np.cos(2*np.pi*t*fcarr)"
   ]
  },
  {
   "cell_type": "code",
   "execution_count": null,
   "id": "9412a0e8",
   "metadata": {},
   "outputs": [],
   "source": []
  },
  {
   "cell_type": "markdown",
   "id": "13cdc412",
   "metadata": {},
   "source": [
    "## Task 1.\n",
    "\n",
    "Set:\n",
    "\n",
    "<ul>\n",
    "    <li>Carrier amplitude = 5</li>\n",
    "    <li>Carrier frequency = 50</li>\n",
    "    <li>Message amplitude = 2</li>\n",
    "    <li>Message frequency = 5</li>\n",
    "    <li>Modulation index = 2</li>\n",
    "</ul>\n",
    "\n",
    "Write a function that asks for the c(t) and m(t) signals \n"
   ]
  },
  {
   "cell_type": "code",
   "execution_count": 11,
   "id": "e437f00d-19ab-4c31-8c69-977c87299dfb",
   "metadata": {},
   "outputs": [],
   "source": [
    "#task 1\n",
    "acarr = 5\n",
    "fcarr = 50\n",
    "amsg = 2\n",
    "fmsg = 5\n",
    "modi = 2\n",
    "\n",
    "# create here the signal m(t)\n",
    "mt = amsg*np.cos(2*np.pi*t*fmsg)\n",
    "# create here the signal c(t)\n",
    "ct = acarr*np.cos(2*np.pi*t*fcarr)\n",
    "am = acarr*(1+modi*np.cos(2*np.pi*t*fmsg))*np.cos(2*np.pi*t*fcarr)"
   ]
  },
  {
   "cell_type": "markdown",
   "id": "69520c57",
   "metadata": {
    "ExecuteTime": {
     "end_time": "2021-08-11T00:05:40.395118Z",
     "start_time": "2021-08-11T00:05:40.391313Z"
    }
   },
   "source": [
    "## Task 2: \n",
    "Return values of the carrier signal in indexes 4, 55 and 900."
   ]
  },
  {
   "cell_type": "code",
   "execution_count": 25,
   "id": "16404959",
   "metadata": {},
   "outputs": [],
   "source": [
    "modi = 4\n",
    "#modi = 55\n",
    "#modi = 900\n",
    "mt = amsg*np.cos(2*np.pi*t*fmsg)\n",
    "# create here the signal c(t)\n",
    "ct = acarr*np.cos(2*np.pi*t*fcarr)\n",
    "am = acarr*(1+modi*np.cos(2*np.pi*t*fmsg))*np.cos(2*np.pi*t*fcarr)"
   ]
  },
  {
   "cell_type": "markdown",
   "id": "cc882328",
   "metadata": {},
   "source": [
    "## Task 3:\n",
    "\n",
    "Report the max value of the message signal and its position in the $mt$ array\n",
    "Tip: use the where method of the np package."
   ]
  },
  {
   "cell_type": "code",
   "execution_count": 20,
   "id": "524eb274",
   "metadata": {
    "ExecuteTime": {
     "end_time": "2021-08-11T00:07:09.591861Z",
     "start_time": "2021-08-11T00:07:09.585457Z"
    }
   },
   "outputs": [
    {
     "name": "stdout",
     "output_type": "stream",
     "text": [
      "2.0\n",
      "(array([0]),)\n"
     ]
    }
   ],
   "source": [
    "max_value = np.max(mt)\n",
    "position =  np.where(np.max(mt))\n",
    "print(max_value)\n",
    "print(position)"
   ]
  },
  {
   "cell_type": "markdown",
   "id": "28989944",
   "metadata": {},
   "source": [
    "## Task 3\n",
    "\n",
    "Report the indexes where the signal $mt$ is smaller than -1.9998. "
   ]
  },
  {
   "cell_type": "code",
   "execution_count": 21,
   "id": "887a4090",
   "metadata": {
    "ExecuteTime": {
     "end_time": "2021-08-11T00:07:43.477441Z",
     "start_time": "2021-08-11T00:07:43.473926Z"
    }
   },
   "outputs": [],
   "source": [
    "mt"
   ]
  },
  {
   "cell_type": "code",
   "execution_count": null,
   "id": "8422e160",
   "metadata": {},
   "outputs": [],
   "source": []
  },
  {
   "cell_type": "markdown",
   "id": "86c0b9ac",
   "metadata": {},
   "source": [
    "## Task 4.\n",
    "\n",
    "Plot signals mt using plt.plot(mt). On signal must be next to the other and should use different colors. Also use titles to identify the axes and the signal from the carrier."
   ]
  },
  {
   "cell_type": "code",
   "execution_count": 12,
   "id": "38fdea9c",
   "metadata": {
    "ExecuteTime": {
     "end_time": "2021-08-11T00:20:25.478105Z",
     "start_time": "2021-08-11T00:20:25.339650Z"
    }
   },
   "outputs": [
    {
     "data": {
      "text/plain": [
       "Text(0, 0.5, 'AM signal')"
      ]
     },
     "execution_count": 12,
     "metadata": {},
     "output_type": "execute_result"
    },
    {
     "data": {
      "image/png": "[encoded data removed]",
      "text/plain": [
       "<Figure size 432x288 with 1 Axes>"
      ]
     },
     "metadata": {
      "needs_background": "light"
     },
     "output_type": "display_data"
    }
   ],
   "source": [
    "from turtle import color\n",
    "\n",
    "\n",
    "plt.subplot(3,1,1)\n",
    "plt.title('Amplitude Modulation')\n",
    "plt.plot(mt,'g')\n",
    "plt.ylabel('Amplitude')\n",
    "plt.ylabel('message signal')\n",
    "\n",
    "plt.subplot(3,1,1)\n",
    "plt.plot(ct,'g')\n",
    "plt.ylabel('Amplitude')\n",
    "plt.ylabel('carrier signal')\n",
    "\n",
    "plt.subplot(3,1,1)\n",
    "plt.plot(am,color=\"purple\")\n",
    "plt.ylabel('Amplitude')\n",
    "plt.ylabel('AM signal')\n"
   ]
  },
  {
   "cell_type": "markdown",
   "id": "83fd6547",
   "metadata": {},
   "source": [
    "## Create the AM signal\n",
    "\n",
    "Consider that the amplitude of the carrier signal changes with the variations in the messages signal.\n",
    "You need to make an abastraction of: \n",
    "\n",
    "$am(t) = A_{c} * (1 + modi * np.cos(w_{m}*t))*np.cos(w_{c}*t)$\n",
    "\n",
    "Use the space below to create this signal"
   ]
  },
  {
   "cell_type": "markdown",
   "id": "bff59c92",
   "metadata": {
    "ExecuteTime": {
     "end_time": "2021-08-11T00:24:15.105957Z",
     "start_time": "2021-08-11T00:24:15.103167Z"
    }
   },
   "source": [
    "## Task 5.\n",
    "\n",
    "Create the AM signal following the above formulation and the function to create signals. "
   ]
  },
  {
   "cell_type": "code",
   "execution_count": null,
   "id": "76c03641",
   "metadata": {},
   "outputs": [],
   "source": []
  },
  {
   "cell_type": "markdown",
   "id": "7f04a250",
   "metadata": {
    "ExecuteTime": {
     "end_time": "2021-08-11T00:24:17.553016Z",
     "start_time": "2021-08-11T00:24:17.413176Z"
    }
   },
   "source": [
    "## Task 6. \n",
    "\n",
    "Plot the AM signal"
   ]
  },
  {
   "cell_type": "code",
   "execution_count": null,
   "id": "b677be3f",
   "metadata": {},
   "outputs": [],
   "source": []
  }
 ],
 "metadata": {
  "kernelspec": {
   "display_name": "Python 3 (ipykernel)",
   "language": "python",
   "name": "python3"
  },
  "language_info": {
   "codemirror_mode": {
    "name": "ipython",
    "version": 3
   },
   "file_extension": ".py",
   "mimetype": "text/x-python",
   "name": "python",
   "nbconvert_exporter": "python",
   "pygments_lexer": "ipython3",
   "version": "3.9.12"
  },
  "toc": {
   "base_numbering": 1,
   "nav_menu": {},
   "number_sections": true,
   "sideBar": true,
   "skip_h1_title": false,
   "title_cell": "Table of Contents",
   "title_sidebar": "Contents",
   "toc_cell": false,
   "toc_position": {},
   "toc_section_display": true,
   "toc_window_display": false
  },
  "vscode": {
   "interpreter": {
    "hash": "5f6d54787e302131c9e2311d9f80c05b8b781e300025334b559f083b5ed9fffe"
   }
  }
 },
 "nbformat": 4,
 "nbformat_minor": 5
}
